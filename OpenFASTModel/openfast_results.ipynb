{
 "cells": [
  {
   "cell_type": "code",
   "execution_count": 1,
   "metadata": {},
   "outputs": [],
   "source": [
    "import matplotlib.pyplot as plt\n",
    "import pandas as pd\n",
    "import numpy as np\n",
    "from openfast_toolbox.io import FASTOutputFile"
   ]
  },
  {
   "cell_type": "code",
   "execution_count": 2,
   "metadata": {},
   "outputs": [],
   "source": [
    "outb_file = 'VolturnUS-15MW_Taut_1000m_hybrid_ref.outb'"
   ]
  },
  {
   "cell_type": "code",
   "execution_count": 3,
   "metadata": {},
   "outputs": [],
   "source": [
    "iteration = slice(-2000, -1, 50)"
   ]
  },
  {
   "cell_type": "code",
   "execution_count": 4,
   "metadata": {},
   "outputs": [],
   "source": [
    "def organize_variables(df):\n",
    "    vars = dict(\n",
    "    time = df['Time_[s]'],\n",
    "    wave_elev = df['Wave1Elev_[m]'],\n",
    "\n",
    "    l1px = df['BODY1PX_[m]'],\n",
    "    l1py = df['BODY1PY_[m]'],\n",
    "    l1pz = df['BODY1PZ_[m]'],\n",
    "    l1vx = df['BODY1VX_[m/s]'],\n",
    "    l1vy = df['BODY1VY_[m/s]'],\n",
    "    l1vz = df['BODY1VZ_[m/s]'],\n",
    "    l1fx = df['LINE2N50FX_[N]'],\n",
    "    l1fy = df['LINE2N50FY_[N]'],\n",
    "    l1fz = df['LINE2N50FZ_[N]'],\n",
    "\n",
    "    l2px = df['BODY2PX_[m]'],\n",
    "    l2py = df['BODY2PY_[m]'],\n",
    "    l2pz = df['BODY2PZ_[m]'],\n",
    "    l2vx = df['BODY2VX_[m/s]'],\n",
    "    l2vy = df['BODY2VY_[m/s]'],\n",
    "    l2vz = df['BODY2VZ_[m/s]'],\n",
    "    l2fx = df['LINE4N50FX_[N]'],\n",
    "    l2fy = df['LINE4N50FY_[N]'],\n",
    "    l2fz = df['LINE4N50FZ_[N]'],\n",
    "\n",
    "    l3px = df['BODY3PX_[m]'],\n",
    "    l3py = df['BODY3PY_[m]'],\n",
    "    l3pz = df['BODY3PZ_[m]'],\n",
    "    l3vx = df['BODY3VX_[m/s]'],\n",
    "    l3vy = df['BODY3VY_[m/s]'],\n",
    "    l3vz = df['BODY3VZ_[m/s]'],\n",
    "    l3fx = df['LINE6N50FX_[N]'],\n",
    "    l3fy = df['LINE6N50FY_[N]'],\n",
    "    l3fz = df['LINE6N50FZ_[N]']    \n",
    "    )\n",
    "    \n",
    "    return pd.DataFrame.from_dict(vars)"
   ]
  },
  {
   "cell_type": "code",
   "execution_count": 6,
   "metadata": {},
   "outputs": [],
   "source": [
    "df = FASTOutputFile(outb_file).toDataFrame()\n",
    "data = organize_variables(df)"
   ]
  },
  {
   "cell_type": "code",
   "execution_count": 8,
   "metadata": {},
   "outputs": [
    {
     "name": "stdout",
     "output_type": "stream",
     "text": [
      "l1fx:  max=-1844841.7319141969,  min=-1948024.7336723984\n",
      "l2fx:  max=941795.2028589911,  min=903720.5182774579\n",
      "l3fx:  max=941487.1169391008,  min=903772.6157617648\n"
     ]
    }
   ],
   "source": [
    "print(f\"l1fx:  max={data['l1fx'].max()},  min={data['l1fx'].min()}\")\n",
    "print(f\"l2fx:  max={data['l2fx'].max()},  min={data['l2fx'].min()}\")\n",
    "print(f\"l3fx:  max={data['l3fx'].max()},  min={data['l3fx'].min()}\")"
   ]
  }
 ],
 "metadata": {
  "kernelspec": {
   "display_name": "ahm",
   "language": "python",
   "name": "python3"
  },
  "language_info": {
   "codemirror_mode": {
    "name": "ipython",
    "version": 3
   },
   "file_extension": ".py",
   "mimetype": "text/x-python",
   "name": "python",
   "nbconvert_exporter": "python",
   "pygments_lexer": "ipython3",
   "version": "3.10.15"
  }
 },
 "nbformat": 4,
 "nbformat_minor": 2
}

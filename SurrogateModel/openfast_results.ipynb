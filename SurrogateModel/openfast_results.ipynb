{
 "cells": [
  {
   "cell_type": "code",
   "execution_count": 75,
   "metadata": {},
   "outputs": [],
   "source": [
    "import matplotlib.pyplot as plt\n",
    "import pandas as pd\n",
    "from openfast_toolbox.io import FASTOutputFile"
   ]
  },
  {
   "cell_type": "code",
   "execution_count": 76,
   "metadata": {},
   "outputs": [],
   "source": [
    "outb_files = ['E:/ahm/VolturnUS-15MW_Taut_1000m_1.outb',\n",
    "              'E:/ahm/VolturnUS-15MW_Taut_1000m_2.outb',\n",
    "              'E:/ahm/VolturnUS-15MW_Taut_1000m_3.outb',\n",
    "              'E:/ahm/VolturnUS-15MW_Taut_1000m_4.outb',\n",
    "              'E:/ahm/VolturnUS-15MW_Taut_1000m_5.outb']"
   ]
  },
  {
   "cell_type": "code",
   "execution_count": 77,
   "metadata": {},
   "outputs": [],
   "source": [
    "def organize_variables(df):\n",
    "    vars = dict(\n",
    "    t = df['Time_[s]'][660000::4000],\n",
    "    wave_elev = df['Wave1Elev_[m]'][660000::4000],\n",
    "\n",
    "    l1px = df['BODY1PX_[m]'][660000::4000],\n",
    "    l1py = df['BODY1PY_[m]'][660000::4000],\n",
    "    l1pz = df['BODY1PZ_[m]'][660000::4000],\n",
    "    l1vx = df['BODY1VX_[m/s]'][660000::4000],\n",
    "    l1vy = df['BODY1VY_[m/s]'][660000::4000],\n",
    "    l1vz = df['BODY1VZ_[m/s]'][660000::4000],\n",
    "    l1fx = df['LINE1N50FX_[N]'][660000::4000],\n",
    "    l1fy = df['LINE1N50FY_[N]'][660000::4000],\n",
    "    l1fz = df['LINE1N50FZ_[N]'][660000::4000],\n",
    "\n",
    "    l2px = df['BODY2PX_[m]'][660000::4000],\n",
    "    l2py = df['BODY2PY_[m]'][660000::4000],\n",
    "    l2pz = df['BODY2PZ_[m]'][660000::4000],\n",
    "    l2vx = df['BODY2VX_[m/s]'][660000::4000],\n",
    "    l2vy = df['BODY2VY_[m/s]'][660000::4000],\n",
    "    l2vz = df['BODY2VZ_[m/s]'][660000::4000],\n",
    "    l2fx = df['LINE3N50FX_[N]'][660000::4000],\n",
    "    l2fy = df['LINE3N50FY_[N]'][660000::4000],\n",
    "    l2fz = df['LINE3N50FZ_[N]'][660000::4000],\n",
    "\n",
    "    l3px = df['BODY3PX_[m]'][660000::4000],\n",
    "    l3py = df['BODY3PY_[m]'][660000::4000],\n",
    "    l3pz = df['BODY3PZ_[m]'][660000::4000],\n",
    "    l3vx = df['BODY3VX_[m/s]'][660000::4000],\n",
    "    l3vy = df['BODY3VY_[m/s]'][660000::4000],\n",
    "    l3vz = df['BODY3VZ_[m/s]'][660000::4000],\n",
    "    l3fx = df['LINE5N50FX_[N]'][660000::4000],\n",
    "    l3fy = df['LINE5N50FY_[N]'][660000::4000],\n",
    "    l3fz = df['LINE5N50FZ_[N]'][660000::4000]\n",
    "    )\n",
    "    \n",
    "    return pd.DataFrame.from_dict(vars)"
   ]
  },
  {
   "cell_type": "code",
   "execution_count": 78,
   "metadata": {},
   "outputs": [],
   "source": [
    "dfs = []\n",
    "for outb_file in outb_files:\n",
    "    df = FASTOutputFile(outb_file).toDataFrame()\n",
    "    dfs.append(organize_variables(df))"
   ]
  },
  {
   "cell_type": "code",
   "execution_count": 82,
   "metadata": {},
   "outputs": [],
   "source": [
    "for i, df in enumerate(dfs):\n",
    "    fn = f'openfast_lin_results_sampled.parquet'\n",
    "    df.to_parquet(fn)"
   ]
  },
  {
   "cell_type": "code",
   "execution_count": 85,
   "metadata": {},
   "outputs": [
    {
     "data": {
      "text/plain": [
       "array([-494.01329565, -494.01697043, -494.02064521, ..., -493.35359991,\n",
       "       -493.35540055, -493.35723794])"
      ]
     },
     "execution_count": 85,
     "metadata": {},
     "output_type": "execute_result"
    }
   ],
   "source": [
    "import numpy as np\n",
    "np.array(dfs[0]['l1px'])"
   ]
  },
  {
   "cell_type": "code",
   "execution_count": 94,
   "metadata": {},
   "outputs": [
    {
     "data": {
      "text/plain": [
       "np.float64(-0.11570526813012402)"
      ]
     },
     "execution_count": 94,
     "metadata": {},
     "output_type": "execute_result"
    }
   ],
   "source": [
    "dfs[0]['wave_elev'].values[583791]"
   ]
  }
 ],
 "metadata": {
  "kernelspec": {
   "display_name": "openfast_io",
   "language": "python",
   "name": "python3"
  },
  "language_info": {
   "codemirror_mode": {
    "name": "ipython",
    "version": 3
   },
   "file_extension": ".py",
   "mimetype": "text/x-python",
   "name": "python",
   "nbconvert_exporter": "python",
   "pygments_lexer": "ipython3",
   "version": "3.12.5"
  }
 },
 "nbformat": 4,
 "nbformat_minor": 2
}

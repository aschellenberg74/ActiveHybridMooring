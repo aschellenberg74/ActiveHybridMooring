{
 "cells": [
  {
   "cell_type": "code",
   "execution_count": 1,
   "metadata": {},
   "outputs": [],
   "source": [
    "import pickle\n",
    "\n",
    "import pandas as pd\n",
    "import matplotlib.pyplot as plt\n",
    "import numpy as np\n",
    "\n",
    "from smt.surrogate_models import KRG"
   ]
  },
  {
   "cell_type": "code",
   "execution_count": 2,
   "metadata": {},
   "outputs": [],
   "source": [
    "results = pd.read_parquet('openfast_lin_results_sampling.parquet')"
   ]
  },
  {
   "cell_type": "code",
   "execution_count": 3,
   "metadata": {},
   "outputs": [],
   "source": [
    "forces_x = np.array(results['l1fx'])\n",
    "forces_y = np.array(results['l1fy'])\n",
    "forces_z = np.array(results['l1fz'])\n",
    "positions_x = np.array(results['l1px'])\n",
    "positions_y = np.array(results['l1py'])\n",
    "positions_z = np.array(results['l1pz'])\n",
    "velocities_x = np.array(results['l1vx'])\n",
    "velocities_y = np.array(results['l1vy'])\n",
    "velocities_z = np.array(results['l1vz'])\n",
    "wave_elevs = np.array(results['wave_elev'])\n",
    "xt = np.column_stack((forces_x, forces_y, forces_z, wave_elevs))\n",
    "yt = np.column_stack((positions_x, positions_y, positions_z, velocities_x, velocities_y, velocities_z))"
   ]
  },
  {
   "cell_type": "code",
   "execution_count": 4,
   "metadata": {},
   "outputs": [
    {
     "name": "stdout",
     "output_type": "stream",
     "text": [
      "___________________________________________________________________________\n",
      "   \n",
      "                                  Kriging\n",
      "___________________________________________________________________________\n",
      "   \n",
      " Problem size\n",
      "   \n",
      "      # training points.        : 930\n",
      "   \n",
      "___________________________________________________________________________\n",
      "   \n",
      " Training\n",
      "   \n",
      "   Training ...\n",
      "fmin_cobyla failed but the best value is retained\n",
      "   Training - done. Time (sec):  0.8652816\n"
     ]
    }
   ],
   "source": [
    "sm = KRG(theta0=[1e-2])\n",
    "sm.set_training_values(xt, yt)\n",
    "sm.train()"
   ]
  },
  {
   "cell_type": "code",
   "execution_count": 10,
   "metadata": {},
   "outputs": [
    {
     "name": "stdout",
     "output_type": "stream",
     "text": [
      "___________________________________________________________________________\n",
      "   \n",
      " Evaluation\n",
      "   \n",
      "      # eval points. : 1\n",
      "   \n",
      "   Predicting ...\n",
      "   Predicting - done. Time (sec):  0.0009973\n",
      "   \n",
      "   Prediction time/pt. (sec) :  0.0009973\n",
      "   \n",
      "[[-4.93415916e+02 -3.98669959e-03 -4.71714798e+02 -5.34874138e-02\n",
      "  -6.24713810e-03  1.46074017e-01]]\n"
     ]
    }
   ],
   "source": [
    "incoming_vals = np.array([[-22403700, 500, -23290000, -0.5]])\n",
    "output_vals = sm.predict_values(incoming_vals)\n",
    "print(output_vals)"
   ]
  },
  {
   "cell_type": "code",
   "execution_count": 6,
   "metadata": {},
   "outputs": [
    {
     "data": {
      "text/plain": [
       "array([[-145.881246  ,  214.35539736, -153.25387413, -100.89067315,\n",
       "         -19.85544565,  -89.68590676]])"
      ]
     },
     "execution_count": 6,
     "metadata": {},
     "output_type": "execute_result"
    }
   ],
   "source": [
    "output_vals"
   ]
  }
 ],
 "metadata": {
  "kernelspec": {
   "display_name": "smt",
   "language": "python",
   "name": "python3"
  },
  "language_info": {
   "codemirror_mode": {
    "name": "ipython",
    "version": 3
   },
   "file_extension": ".py",
   "mimetype": "text/x-python",
   "name": "python",
   "nbconvert_exporter": "python",
   "pygments_lexer": "ipython3",
   "version": "3.12.5"
  }
 },
 "nbformat": 4,
 "nbformat_minor": 2
}
